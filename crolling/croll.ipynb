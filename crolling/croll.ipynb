{
 "cells": [
  {
   "cell_type": "code",
   "execution_count": 2,
   "metadata": {},
   "outputs": [
    {
     "name": "stderr",
     "output_type": "stream",
     "text": [
      "C:\\ProgramData\\Anaconda3\\lib\\site-packages\\gensim\\utils.py:1212: UserWarning: detected Windows; aliasing chunkize to chunkize_serial\n",
      "  warnings.warn(\"detected Windows; aliasing chunkize to chunkize_serial\")\n"
     ]
    }
   ],
   "source": [
    "from bs4 import BeautifulSoup\n",
    "from selenium import webdriver\n",
    "from selenium.webdriver.chrome.options import Options\n",
    "from selenium.webdriver.common.by import By\n",
    "from selenium.webdriver.support.ui import WebDriverWait\n",
    "from selenium.webdriver.support import expected_conditions as EC\n",
    "from bs4 import BeautifulSoup\n",
    "import time\n",
    "from gensim.summarization.summarizer import summarize\n",
    "from newspaper import Article\n",
    "import requests\n",
    "from PIL import Image\n",
    "import urllib.request\n",
    "import time\n",
    "from io import BytesIO"
   ]
  },
  {
   "cell_type": "code",
   "execution_count": 2,
   "metadata": {},
   "outputs": [
    {
     "ename": "NameError",
     "evalue": "name 'webdriver' is not defined",
     "output_type": "error",
     "traceback": [
      "\u001b[1;31m---------------------------------------------------------------------------\u001b[0m",
      "\u001b[1;31mNameError\u001b[0m                                 Traceback (most recent call last)",
      "\u001b[1;32m~\\AppData\\Local\\Temp/ipykernel_14500/1176835699.py\u001b[0m in \u001b[0;36m<module>\u001b[1;34m\u001b[0m\n\u001b[1;32m----> 1\u001b[1;33m \u001b[0mdriver\u001b[0m \u001b[1;33m=\u001b[0m \u001b[0mwebdriver\u001b[0m\u001b[1;33m.\u001b[0m\u001b[0mChrome\u001b[0m\u001b[1;33m(\u001b[0m\u001b[1;34mr\"C:\\Users\\PC\\chromedriver.exe\"\u001b[0m\u001b[1;33m)\u001b[0m\u001b[1;33m\u001b[0m\u001b[1;33m\u001b[0m\u001b[0m\n\u001b[0m\u001b[0;32m      2\u001b[0m \u001b[0msearch\u001b[0m \u001b[1;33m=\u001b[0m \u001b[0minput\u001b[0m\u001b[1;33m(\u001b[0m\u001b[1;34m'검색어를 입력하세요 : '\u001b[0m\u001b[1;33m)\u001b[0m\u001b[1;33m\u001b[0m\u001b[1;33m\u001b[0m\u001b[0m\n\u001b[0;32m      3\u001b[0m \u001b[0murl\u001b[0m \u001b[1;33m=\u001b[0m \u001b[1;34m'https://search.naver.com/search.naver?where=news&sm=tab_jum&query='\u001b[0m\u001b[1;33m+\u001b[0m\u001b[0msearch\u001b[0m\u001b[1;33m\u001b[0m\u001b[1;33m\u001b[0m\u001b[0m\n\u001b[0;32m      4\u001b[0m \u001b[0murl2\u001b[0m \u001b[1;33m=\u001b[0m \u001b[1;34m'https://section.blog.naver.com/Search/Post.naver?pageNo=1&rangeType=ALL&orderBy=sim&keyword='\u001b[0m\u001b[1;33m+\u001b[0m\u001b[0msearch\u001b[0m\u001b[1;33m\u001b[0m\u001b[1;33m\u001b[0m\u001b[0m\n\u001b[0;32m      5\u001b[0m \u001b[0murl3\u001b[0m \u001b[1;33m=\u001b[0m \u001b[1;34m\"https://search.pstatic.net/common/?src=https%3A%2F%2Fimgnews.pstatic.net%2Fimage%2Forigin%2F108%2F2022%2F03%2F29%2F3039729.jpg&type=ff264_180&expire=2&refresh=true\"\u001b[0m\u001b[1;33m\u001b[0m\u001b[1;33m\u001b[0m\u001b[0m\n",
      "\u001b[1;31mNameError\u001b[0m: name 'webdriver' is not defined"
     ]
    }
   ],
   "source": [
    "driver = webdriver.Chrome(r\"C:\\Users\\PC\\chromedriver.exe\")\n",
    "search = input('검색어를 입력하세요 : ')\n",
    "url = 'https://search.naver.com/search.naver?where=news&sm=tab_jum&query='+search\n",
    "url2 = 'https://section.blog.naver.com/Search/Post.naver?pageNo=1&rangeType=ALL&orderBy=sim&keyword='+search\n",
    "url3 = \"https://search.pstatic.net/common/?src=https%3A%2F%2Fimgnews.pstatic.net%2Fimage%2Forigin%2F108%2F2022%2F03%2F29%2F3039729.jpg&type=ff264_180&expire=2&refresh=true\"\n",
    "\n",
    "b = input('뉴스 or 블로그');\n",
    "req = urllib.request.Request(url3, headers = {\"User-Agent\" : \"Mozilla/5.0\"})\n",
    "res = urllib.request.urlopen(req).read()\n",
    "\n",
    "\n",
    "if(b=='뉴스'):\n",
    "    driver.get(url)\n",
    "if(b=='블로그'):\n",
    "    driver.get(url2)\n",
    "\n",
    "soup = BeautifulSoup(driver.page_source, 'html.parser')\n",
    "\n",
    "title = soup.select('a.news_tit')\n",
    "title2 = soup.select('a.desc_inner')\n",
    "if(b=='뉴스'):\n",
    "    for i in title:\n",
    "        a_tag = i.get_text()\n",
    "        print(\"\\n\",a_tag)\n",
    "        print(i.attrs['href'])\n",
    "        urlopen_img = Image.open(BytesIO(res))\n",
    "        driver,quit()\n",
    "\n",
    "\n",
    "if(b=='블로그'):\n",
    "    for j in title2:\n",
    "        b_tag = j.get_text()\n",
    "        print(\"\\n\",b_tag)\n",
    "        print(j.attrs['ng-href'])\n",
    "        driver,quit()\n",
    "    #sp_nws1 > div > div > a\n",
    "c = input('URL 입력')\n",
    "driver.get(c)\n",
    "news = Article(c)\n",
    "news.download()\n",
    "\n",
    "news.parse()\n",
    "print(summarize(news.text, word_count=50))"
   ]
  },
  {
   "cell_type": "markdown",
   "metadata": {},
   "source": []
  },
  {
   "cell_type": "code",
   "execution_count": 5,
   "metadata": {},
   "outputs": [
    {
     "name": "stderr",
     "output_type": "stream",
     "text": [
      "C:\\Users\\PC\\AppData\\Local\\Temp/ipykernel_8792/2500908915.py:3: DeprecationWarning: executable_path has been deprecated, please pass in a Service object\n",
      "  driver = webdriver.Chrome(r\"C:\\Users\\PC\\chromedriver.exe\",options=op)\n",
      "C:\\Users\\PC\\AppData\\Local\\Temp/ipykernel_8792/2500908915.py:8: DeprecationWarning: find_element_by_* commands are deprecated. Please use find_element() instead\n",
      "  elem = driver.find_element_by_id('searchKey').send_keys(search)\n",
      "C:\\Users\\PC\\AppData\\Local\\Temp/ipykernel_8792/2500908915.py:9: DeprecationWarning: find_element_by_css_selector is deprecated. Please use find_element(by=By.CSS_SELECTOR, value=css_selector) instead\n",
      "  driver.find_element_by_css_selector('#contents_inner > div > div.search_box.search_box-1 > div.search_form.search_form-1 > div > button').click()\n",
      "C:\\Users\\PC\\AppData\\Local\\Temp/ipykernel_8792/2500908915.py:10: DeprecationWarning: find_elements_by_css_selector is deprecated. Please use find_elements(by=By.CSS_SELECTOR, value=css_selector) instead\n",
      "  elements = driver.find_elements_by_css_selector('#contents_inner > div > table > tbody > tr')\n",
      "C:\\Users\\PC\\AppData\\Local\\Temp/ipykernel_8792/2500908915.py:15: DeprecationWarning: find_element_by_xpath is deprecated. Please use find_element(by=By.XPATH, value=xpath) instead\n",
      "  a_tag = driver.find_element_by_xpath(pead_path).click()\n"
     ]
    },
    {
     "name": "stdout",
     "output_type": "stream",
     "text": [
      "파일 다운\n",
      "파일 다운\n",
      "파일 다운\n",
      "파일 다운\n",
      "파일 다운\n",
      "파일 다운\n",
      "파일 다운\n",
      "파일 다운\n",
      "파일 다운\n",
      "파일 다운\n"
     ]
    },
    {
     "name": "stderr",
     "output_type": "stream",
     "text": [
      "C:\\Users\\PC\\AppData\\Local\\Temp/ipykernel_8792/2500908915.py:20: DeprecationWarning: find_element_by_xpath is deprecated. Please use find_element(by=By.XPATH, value=xpath) instead\n",
      "  b_tag = driver.find_element_by_xpath(pead_path2).click()\n"
     ]
    },
    {
     "name": "stdout",
     "output_type": "stream",
     "text": [
      "파일 다운\n",
      "파일 다운\n",
      "파일 다운\n",
      "파일 다운\n",
      "파일 다운\n",
      "파일 다운\n",
      "파일 다운\n",
      "파일 다운\n",
      "파일 다운\n",
      "파일 다운\n",
      "파일 다운\n",
      "파일 다운\n",
      "파일 다운\n",
      "파일 다운\n"
     ]
    },
    {
     "ename": "NoSuchElementException",
     "evalue": "Message: no such element: Unable to locate element: {\"method\":\"xpath\",\"selector\":\"/html/body/div[2]/form/div/div/table/tbody/tr[5]/td[5]/a\"}\n  (Session info: chrome=100.0.4896.75)\nStacktrace:\nBacktrace:\n\tOrdinal0 [0x00C49943+2595139]\n\tOrdinal0 [0x00BDC9F1+2148849]\n\tOrdinal0 [0x00AD4528+1066280]\n\tOrdinal0 [0x00B00FD4+1249236]\n\tOrdinal0 [0x00B011CB+1249739]\n\tOrdinal0 [0x00B2D812+1431570]\n\tOrdinal0 [0x00B1BA34+1358388]\n\tOrdinal0 [0x00B2BAF2+1424114]\n\tOrdinal0 [0x00B1B806+1357830]\n\tOrdinal0 [0x00AF6086+1204358]\n\tOrdinal0 [0x00AF6F96+1208214]\n\tGetHandleVerifier [0x00DEB232+1658114]\n\tGetHandleVerifier [0x00EA312C+2411516]\n\tGetHandleVerifier [0x00CDF261+560433]\n\tGetHandleVerifier [0x00CDE366+556598]\n\tOrdinal0 [0x00BE286B+2173035]\n\tOrdinal0 [0x00BE75F8+2192888]\n\tOrdinal0 [0x00BE76E5+2193125]\n\tOrdinal0 [0x00BF11FC+2232828]\n\tBaseThreadInitThunk [0x75FCFA29+25]\n\tRtlGetAppContainerNamedObjectPath [0x773B7A7E+286]\n\tRtlGetAppContainerNamedObjectPath [0x773B7A4E+238]\n",
     "output_type": "error",
     "traceback": [
      "\u001b[1;31m---------------------------------------------------------------------------\u001b[0m",
      "\u001b[1;31mNoSuchElementException\u001b[0m                    Traceback (most recent call last)",
      "\u001b[1;32m~\\AppData\\Local\\Temp/ipykernel_8792/2500908915.py\u001b[0m in \u001b[0;36m<module>\u001b[1;34m\u001b[0m\n\u001b[0;32m     13\u001b[0m     \u001b[1;32mfor\u001b[0m \u001b[0mi\u001b[0m \u001b[1;32min\u001b[0m \u001b[0mrange\u001b[0m\u001b[1;33m(\u001b[0m\u001b[1;36m1\u001b[0m\u001b[1;33m,\u001b[0m\u001b[1;36m11\u001b[0m\u001b[1;33m)\u001b[0m\u001b[1;33m:\u001b[0m\u001b[1;33m\u001b[0m\u001b[1;33m\u001b[0m\u001b[0m\n\u001b[0;32m     14\u001b[0m         \u001b[0mpead_path\u001b[0m \u001b[1;33m=\u001b[0m \u001b[1;34m'/html/body/div[2]/form/div/div/table/tbody/tr[{0}]/td[{1}]/a'\u001b[0m\u001b[1;33m.\u001b[0m\u001b[0mformat\u001b[0m\u001b[1;33m(\u001b[0m\u001b[0mi\u001b[0m\u001b[1;33m,\u001b[0m\u001b[1;36m5\u001b[0m\u001b[1;33m)\u001b[0m\u001b[1;33m\u001b[0m\u001b[1;33m\u001b[0m\u001b[0m\n\u001b[1;32m---> 15\u001b[1;33m         \u001b[0ma_tag\u001b[0m \u001b[1;33m=\u001b[0m \u001b[0mdriver\u001b[0m\u001b[1;33m.\u001b[0m\u001b[0mfind_element_by_xpath\u001b[0m\u001b[1;33m(\u001b[0m\u001b[0mpead_path\u001b[0m\u001b[1;33m)\u001b[0m\u001b[1;33m.\u001b[0m\u001b[0mclick\u001b[0m\u001b[1;33m(\u001b[0m\u001b[1;33m)\u001b[0m\u001b[1;33m\u001b[0m\u001b[1;33m\u001b[0m\u001b[0m\n\u001b[0m\u001b[0;32m     16\u001b[0m         \u001b[0mdriver\u001b[0m\u001b[1;33m.\u001b[0m\u001b[0mimplicitly_wait\u001b[0m\u001b[1;33m(\u001b[0m\u001b[1;36m3\u001b[0m\u001b[1;33m)\u001b[0m\u001b[1;33m\u001b[0m\u001b[1;33m\u001b[0m\u001b[0m\n\u001b[0;32m     17\u001b[0m         \u001b[0mprint\u001b[0m\u001b[1;33m(\u001b[0m\u001b[1;34m\"파일 다운\"\u001b[0m\u001b[1;33m)\u001b[0m\u001b[1;33m\u001b[0m\u001b[1;33m\u001b[0m\u001b[0m\n",
      "\u001b[1;32mC:\\ProgramData\\Anaconda3\\lib\\site-packages\\selenium\\webdriver\\remote\\webdriver.py\u001b[0m in \u001b[0;36mfind_element_by_xpath\u001b[1;34m(self, xpath)\u001b[0m\n\u001b[0;32m    519\u001b[0m             \u001b[0mstacklevel\u001b[0m\u001b[1;33m=\u001b[0m\u001b[1;36m2\u001b[0m\u001b[1;33m,\u001b[0m\u001b[1;33m\u001b[0m\u001b[1;33m\u001b[0m\u001b[0m\n\u001b[0;32m    520\u001b[0m         )\n\u001b[1;32m--> 521\u001b[1;33m         \u001b[1;32mreturn\u001b[0m \u001b[0mself\u001b[0m\u001b[1;33m.\u001b[0m\u001b[0mfind_element\u001b[0m\u001b[1;33m(\u001b[0m\u001b[0mby\u001b[0m\u001b[1;33m=\u001b[0m\u001b[0mBy\u001b[0m\u001b[1;33m.\u001b[0m\u001b[0mXPATH\u001b[0m\u001b[1;33m,\u001b[0m \u001b[0mvalue\u001b[0m\u001b[1;33m=\u001b[0m\u001b[0mxpath\u001b[0m\u001b[1;33m)\u001b[0m\u001b[1;33m\u001b[0m\u001b[1;33m\u001b[0m\u001b[0m\n\u001b[0m\u001b[0;32m    522\u001b[0m \u001b[1;33m\u001b[0m\u001b[0m\n\u001b[0;32m    523\u001b[0m     \u001b[1;32mdef\u001b[0m \u001b[0mfind_elements_by_xpath\u001b[0m\u001b[1;33m(\u001b[0m\u001b[0mself\u001b[0m\u001b[1;33m,\u001b[0m \u001b[0mxpath\u001b[0m\u001b[1;33m)\u001b[0m \u001b[1;33m->\u001b[0m \u001b[0mList\u001b[0m\u001b[1;33m[\u001b[0m\u001b[0mWebElement\u001b[0m\u001b[1;33m]\u001b[0m\u001b[1;33m:\u001b[0m\u001b[1;33m\u001b[0m\u001b[1;33m\u001b[0m\u001b[0m\n",
      "\u001b[1;32mC:\\ProgramData\\Anaconda3\\lib\\site-packages\\selenium\\webdriver\\remote\\webdriver.py\u001b[0m in \u001b[0;36mfind_element\u001b[1;34m(self, by, value)\u001b[0m\n\u001b[0;32m   1246\u001b[0m             \u001b[0mvalue\u001b[0m \u001b[1;33m=\u001b[0m \u001b[1;34m'[name=\"%s\"]'\u001b[0m \u001b[1;33m%\u001b[0m \u001b[0mvalue\u001b[0m\u001b[1;33m\u001b[0m\u001b[1;33m\u001b[0m\u001b[0m\n\u001b[0;32m   1247\u001b[0m \u001b[1;33m\u001b[0m\u001b[0m\n\u001b[1;32m-> 1248\u001b[1;33m         return self.execute(Command.FIND_ELEMENT, {\n\u001b[0m\u001b[0;32m   1249\u001b[0m             \u001b[1;34m'using'\u001b[0m\u001b[1;33m:\u001b[0m \u001b[0mby\u001b[0m\u001b[1;33m,\u001b[0m\u001b[1;33m\u001b[0m\u001b[1;33m\u001b[0m\u001b[0m\n\u001b[0;32m   1250\u001b[0m             'value': value})['value']\n",
      "\u001b[1;32mC:\\ProgramData\\Anaconda3\\lib\\site-packages\\selenium\\webdriver\\remote\\webdriver.py\u001b[0m in \u001b[0;36mexecute\u001b[1;34m(self, driver_command, params)\u001b[0m\n\u001b[0;32m    423\u001b[0m         \u001b[0mresponse\u001b[0m \u001b[1;33m=\u001b[0m \u001b[0mself\u001b[0m\u001b[1;33m.\u001b[0m\u001b[0mcommand_executor\u001b[0m\u001b[1;33m.\u001b[0m\u001b[0mexecute\u001b[0m\u001b[1;33m(\u001b[0m\u001b[0mdriver_command\u001b[0m\u001b[1;33m,\u001b[0m \u001b[0mparams\u001b[0m\u001b[1;33m)\u001b[0m\u001b[1;33m\u001b[0m\u001b[1;33m\u001b[0m\u001b[0m\n\u001b[0;32m    424\u001b[0m         \u001b[1;32mif\u001b[0m \u001b[0mresponse\u001b[0m\u001b[1;33m:\u001b[0m\u001b[1;33m\u001b[0m\u001b[1;33m\u001b[0m\u001b[0m\n\u001b[1;32m--> 425\u001b[1;33m             \u001b[0mself\u001b[0m\u001b[1;33m.\u001b[0m\u001b[0merror_handler\u001b[0m\u001b[1;33m.\u001b[0m\u001b[0mcheck_response\u001b[0m\u001b[1;33m(\u001b[0m\u001b[0mresponse\u001b[0m\u001b[1;33m)\u001b[0m\u001b[1;33m\u001b[0m\u001b[1;33m\u001b[0m\u001b[0m\n\u001b[0m\u001b[0;32m    426\u001b[0m             response['value'] = self._unwrap_value(\n\u001b[0;32m    427\u001b[0m                 response.get('value', None))\n",
      "\u001b[1;32mC:\\ProgramData\\Anaconda3\\lib\\site-packages\\selenium\\webdriver\\remote\\errorhandler.py\u001b[0m in \u001b[0;36mcheck_response\u001b[1;34m(self, response)\u001b[0m\n\u001b[0;32m    245\u001b[0m                 \u001b[0malert_text\u001b[0m \u001b[1;33m=\u001b[0m \u001b[0mvalue\u001b[0m\u001b[1;33m[\u001b[0m\u001b[1;34m'alert'\u001b[0m\u001b[1;33m]\u001b[0m\u001b[1;33m.\u001b[0m\u001b[0mget\u001b[0m\u001b[1;33m(\u001b[0m\u001b[1;34m'text'\u001b[0m\u001b[1;33m)\u001b[0m\u001b[1;33m\u001b[0m\u001b[1;33m\u001b[0m\u001b[0m\n\u001b[0;32m    246\u001b[0m             \u001b[1;32mraise\u001b[0m \u001b[0mexception_class\u001b[0m\u001b[1;33m(\u001b[0m\u001b[0mmessage\u001b[0m\u001b[1;33m,\u001b[0m \u001b[0mscreen\u001b[0m\u001b[1;33m,\u001b[0m \u001b[0mstacktrace\u001b[0m\u001b[1;33m,\u001b[0m \u001b[0malert_text\u001b[0m\u001b[1;33m)\u001b[0m  \u001b[1;31m# type: ignore[call-arg]  # mypy is not smart enough here\u001b[0m\u001b[1;33m\u001b[0m\u001b[1;33m\u001b[0m\u001b[0m\n\u001b[1;32m--> 247\u001b[1;33m         \u001b[1;32mraise\u001b[0m \u001b[0mexception_class\u001b[0m\u001b[1;33m(\u001b[0m\u001b[0mmessage\u001b[0m\u001b[1;33m,\u001b[0m \u001b[0mscreen\u001b[0m\u001b[1;33m,\u001b[0m \u001b[0mstacktrace\u001b[0m\u001b[1;33m)\u001b[0m\u001b[1;33m\u001b[0m\u001b[1;33m\u001b[0m\u001b[0m\n\u001b[0m\u001b[0;32m    248\u001b[0m \u001b[1;33m\u001b[0m\u001b[0m\n\u001b[0;32m    249\u001b[0m     \u001b[1;32mdef\u001b[0m \u001b[0m_value_or_default\u001b[0m\u001b[1;33m(\u001b[0m\u001b[0mself\u001b[0m\u001b[1;33m,\u001b[0m \u001b[0mobj\u001b[0m\u001b[1;33m:\u001b[0m \u001b[0mMapping\u001b[0m\u001b[1;33m[\u001b[0m\u001b[0m_KT\u001b[0m\u001b[1;33m,\u001b[0m \u001b[0m_VT\u001b[0m\u001b[1;33m]\u001b[0m\u001b[1;33m,\u001b[0m \u001b[0mkey\u001b[0m\u001b[1;33m:\u001b[0m \u001b[0m_KT\u001b[0m\u001b[1;33m,\u001b[0m \u001b[0mdefault\u001b[0m\u001b[1;33m:\u001b[0m \u001b[0m_VT\u001b[0m\u001b[1;33m)\u001b[0m \u001b[1;33m->\u001b[0m \u001b[0m_VT\u001b[0m\u001b[1;33m:\u001b[0m\u001b[1;33m\u001b[0m\u001b[1;33m\u001b[0m\u001b[0m\n",
      "\u001b[1;31mNoSuchElementException\u001b[0m: Message: no such element: Unable to locate element: {\"method\":\"xpath\",\"selector\":\"/html/body/div[2]/form/div/div/table/tbody/tr[5]/td[5]/a\"}\n  (Session info: chrome=100.0.4896.75)\nStacktrace:\nBacktrace:\n\tOrdinal0 [0x00C49943+2595139]\n\tOrdinal0 [0x00BDC9F1+2148849]\n\tOrdinal0 [0x00AD4528+1066280]\n\tOrdinal0 [0x00B00FD4+1249236]\n\tOrdinal0 [0x00B011CB+1249739]\n\tOrdinal0 [0x00B2D812+1431570]\n\tOrdinal0 [0x00B1BA34+1358388]\n\tOrdinal0 [0x00B2BAF2+1424114]\n\tOrdinal0 [0x00B1B806+1357830]\n\tOrdinal0 [0x00AF6086+1204358]\n\tOrdinal0 [0x00AF6F96+1208214]\n\tGetHandleVerifier [0x00DEB232+1658114]\n\tGetHandleVerifier [0x00EA312C+2411516]\n\tGetHandleVerifier [0x00CDF261+560433]\n\tGetHandleVerifier [0x00CDE366+556598]\n\tOrdinal0 [0x00BE286B+2173035]\n\tOrdinal0 [0x00BE75F8+2192888]\n\tOrdinal0 [0x00BE76E5+2193125]\n\tOrdinal0 [0x00BF11FC+2232828]\n\tBaseThreadInitThunk [0x75FCFA29+25]\n\tRtlGetAppContainerNamedObjectPath [0x773B7A7E+286]\n\tRtlGetAppContainerNamedObjectPath [0x773B7A4E+238]\n"
     ]
    }
   ],
   "source": [
    "op = Options()\n",
    "op.add_experimental_option('prefs',{'download.default_directory':r'C:\\file_gonggo'})\n",
    "driver = webdriver.Chrome(r\"C:\\Users\\PC\\chromedriver.exe\",options=op)\n",
    "search = input('검색어를 입력하세요 : ')\n",
    "url = 'https://www.mss.go.kr/site/smba/ex/bbs/List.do?cbIdx=310'\n",
    "driver.get(url)\n",
    "soup = BeautifulSoup(driver.page_source, 'html.parser')\n",
    "elem = driver.find_element_by_id('searchKey').send_keys(search)\n",
    "driver.find_element_by_css_selector('#contents_inner > div > div.search_box.search_box-1 > div.search_form.search_form-1 > div > button').click()\n",
    "elements = driver.find_elements_by_css_selector('#contents_inner > div > table > tbody > tr')\n",
    "#contents_inner > div > table > tbody > tr:nth-child(1) > td.mobile > a > div.subject\n",
    "for j in range(2,11):\n",
    "    for i in range(1,11):\n",
    "        pead_path = '/html/body/div[2]/form/div/div/table/tbody/tr[{0}]/td[{1}]/a'.format(i,5)\n",
    "        a_tag = driver.find_element_by_xpath(pead_path).click()\n",
    "        driver.implicitly_wait(3)\n",
    "        print(\"파일 다운\")\n",
    "        if(i==10):\n",
    "            pead_path2 = '/html/body/div[2]/form/div/div/div[4]/ul/li[{}]/a'.format(j)\n",
    "            b_tag = driver.find_element_by_xpath(pead_path2).click()\n"
   ]
  },
  {
   "cell_type": "code",
   "execution_count": null,
   "metadata": {},
   "outputs": [],
   "source": []
  }
 ],
 "metadata": {
  "interpreter": {
   "hash": "b3ba2566441a7c06988d0923437866b63cedc61552a5af99d1f4fb67d367b25f"
  },
  "kernelspec": {
   "display_name": "Python 3.9.7 ('base')",
   "language": "python",
   "name": "python3"
  },
  "language_info": {
   "codemirror_mode": {
    "name": "ipython",
    "version": 3
   },
   "file_extension": ".py",
   "mimetype": "text/x-python",
   "name": "python",
   "nbconvert_exporter": "python",
   "pygments_lexer": "ipython3",
   "version": "3.9.7"
  },
  "orig_nbformat": 4
 },
 "nbformat": 4,
 "nbformat_minor": 2
}
